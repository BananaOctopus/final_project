{
 "cells": [
  {
   "cell_type": "code",
   "execution_count": 1,
   "id": "0f2a63ad",
   "metadata": {},
   "outputs": [],
   "source": [
    "#importing our dependencies\n",
    "\n",
    "import numpy as np\n",
    "import pandas as pd\n",
    "\n",
    "import matplotlib.pyplot as plt\n",
    "import seaborn as sns\n",
    "\n",
    "from sklearn.model_selection import train_test_split\n",
    "from sklearn.preprocessing import StandardScaler\n",
    "\n",
    "from sklearn.linear_model import LogisticRegression\n",
    "\n",
    "from sklearn.metrics import confusion_matrix, classification_report\n",
    "\n",
    "import tensorflow as tf\n",
    "from pathlib import Path\n",
    "\n",
    "from sklearn.linear_model import LinearRegression\n",
    "import sqlalchemy\n",
    "from sqlalchemy.ext.automap import automap_base\n",
    "from sqlalchemy.orm import Session\n",
    "from sqlalchemy import create_engine, func\n",
    "from sqlalchemy import inspect\n",
    "import sqlite3"
   ]
  },
  {
   "cell_type": "markdown",
   "id": "d8b0721c",
   "metadata": {},
   "source": [
    "## Filtering and Processing Data"
   ]
  },
  {
   "cell_type": "code",
   "execution_count": 3,
   "id": "cdd74583",
   "metadata": {},
   "outputs": [
    {
     "data": {
      "text/plain": [
       "['flights']"
      ]
     },
     "execution_count": 3,
     "metadata": {},
     "output_type": "execute_result"
    }
   ],
   "source": [
    "engine = create_engine(\"sqlite:///Resources/flights.db\")\n",
    "\n",
    "inspector = inspect(engine)\n",
    "inspector.get_table_names()"
   ]
  },
  {
   "cell_type": "code",
   "execution_count": 4,
   "id": "16ce50f3",
   "metadata": {},
   "outputs": [],
   "source": [
    "#import flights_csv\n",
    "#flights_df = pd.read_csv('Resources/flights_update.csv')\n",
    "# Make a connection to the SQL database\n",
    "conn = engine.connect()"
   ]
  },
  {
   "cell_type": "code",
   "execution_count": null,
   "id": "5ad47fd1",
   "metadata": {},
   "outputs": [],
   "source": [
    "#check dtypes\n",
    "flights_df.dtypes"
   ]
  },
  {
   "cell_type": "code",
   "execution_count": 5,
   "id": "6f75a1df",
   "metadata": {},
   "outputs": [
    {
     "data": {
      "text/html": [
       "<div>\n",
       "<style scoped>\n",
       "    .dataframe tbody tr th:only-of-type {\n",
       "        vertical-align: middle;\n",
       "    }\n",
       "\n",
       "    .dataframe tbody tr th {\n",
       "        vertical-align: top;\n",
       "    }\n",
       "\n",
       "    .dataframe thead th {\n",
       "        text-align: right;\n",
       "    }\n",
       "</style>\n",
       "<table border=\"1\" class=\"dataframe\">\n",
       "  <thead>\n",
       "    <tr style=\"text-align: right;\">\n",
       "      <th></th>\n",
       "      <th>MONTH</th>\n",
       "      <th>DATE</th>\n",
       "      <th>DAY_OF_WEEK</th>\n",
       "      <th>AIRLINE</th>\n",
       "      <th>FLIGHT_NUMBER</th>\n",
       "      <th>TAIL_NUMBER</th>\n",
       "      <th>ORIGIN_AIRPORT</th>\n",
       "      <th>DESTINATION_AIRPORT</th>\n",
       "      <th>DISTANCE_miles</th>\n",
       "      <th>MINUTES_DELAY</th>\n",
       "    </tr>\n",
       "  </thead>\n",
       "  <tbody>\n",
       "    <tr>\n",
       "      <th>0</th>\n",
       "      <td>1</td>\n",
       "      <td>1</td>\n",
       "      <td>4</td>\n",
       "      <td>AS</td>\n",
       "      <td>98</td>\n",
       "      <td>N407AS</td>\n",
       "      <td>ANC</td>\n",
       "      <td>SEA</td>\n",
       "      <td>1448</td>\n",
       "      <td>-22</td>\n",
       "    </tr>\n",
       "    <tr>\n",
       "      <th>1</th>\n",
       "      <td>1</td>\n",
       "      <td>1</td>\n",
       "      <td>4</td>\n",
       "      <td>AA</td>\n",
       "      <td>2336</td>\n",
       "      <td>N3KUAA</td>\n",
       "      <td>LAX</td>\n",
       "      <td>PBI</td>\n",
       "      <td>2330</td>\n",
       "      <td>-9</td>\n",
       "    </tr>\n",
       "    <tr>\n",
       "      <th>2</th>\n",
       "      <td>1</td>\n",
       "      <td>1</td>\n",
       "      <td>4</td>\n",
       "      <td>US</td>\n",
       "      <td>840</td>\n",
       "      <td>N171US</td>\n",
       "      <td>SFO</td>\n",
       "      <td>CLT</td>\n",
       "      <td>2296</td>\n",
       "      <td>5</td>\n",
       "    </tr>\n",
       "    <tr>\n",
       "      <th>3</th>\n",
       "      <td>1</td>\n",
       "      <td>1</td>\n",
       "      <td>4</td>\n",
       "      <td>AA</td>\n",
       "      <td>258</td>\n",
       "      <td>N3HYAA</td>\n",
       "      <td>LAX</td>\n",
       "      <td>MIA</td>\n",
       "      <td>2342</td>\n",
       "      <td>-9</td>\n",
       "    </tr>\n",
       "    <tr>\n",
       "      <th>4</th>\n",
       "      <td>1</td>\n",
       "      <td>1</td>\n",
       "      <td>4</td>\n",
       "      <td>AS</td>\n",
       "      <td>135</td>\n",
       "      <td>N527AS</td>\n",
       "      <td>SEA</td>\n",
       "      <td>ANC</td>\n",
       "      <td>1448</td>\n",
       "      <td>-21</td>\n",
       "    </tr>\n",
       "  </tbody>\n",
       "</table>\n",
       "</div>"
      ],
      "text/plain": [
       "   MONTH  DATE  DAY_OF_WEEK AIRLINE  FLIGHT_NUMBER TAIL_NUMBER ORIGIN_AIRPORT  \\\n",
       "0      1     1            4      AS             98      N407AS            ANC   \n",
       "1      1     1            4      AA           2336      N3KUAA            LAX   \n",
       "2      1     1            4      US            840      N171US            SFO   \n",
       "3      1     1            4      AA            258      N3HYAA            LAX   \n",
       "4      1     1            4      AS            135      N527AS            SEA   \n",
       "\n",
       "  DESTINATION_AIRPORT  DISTANCE_miles  MINUTES_DELAY  \n",
       "0                 SEA            1448            -22  \n",
       "1                 PBI            2330             -9  \n",
       "2                 CLT            2296              5  \n",
       "3                 MIA            2342             -9  \n",
       "4                 ANC            1448            -21  "
      ]
     },
     "execution_count": 5,
     "metadata": {},
     "output_type": "execute_result"
    }
   ],
   "source": [
    "# Query All Records in the the Database\n",
    "flights_data_df = pd.read_sql(\"SELECT * FROM flights\", conn)\n",
    "flights_data_df.head()"
   ]
  },
  {
   "cell_type": "code",
   "execution_count": null,
   "id": "64981bcc",
   "metadata": {},
   "outputs": [],
   "source": [
    "#using minutes_delayed as y value, has to be int\n",
    "flights_df['MINUTES_DELAY'] = flights_df['MINUTES_DELAY'].values.astype(np.int64)"
   ]
  },
  {
   "cell_type": "code",
   "execution_count": null,
   "id": "9656a755",
   "metadata": {
    "scrolled": true
   },
   "outputs": [],
   "source": [
    "#checking dtypes again\n",
    "flights_df.dtypes"
   ]
  },
  {
   "cell_type": "code",
   "execution_count": null,
   "id": "1743277c",
   "metadata": {},
   "outputs": [],
   "source": [
    "#drop columns SORRY MU COMPUTER SUCKS, ADD COLUMNS BACK IN \n",
    "flights_df = flights_df.drop([ 'TAIL_NUMBER', ], axis=1)\n",
    "flights_df"
   ]
  },
  {
   "cell_type": "code",
   "execution_count": null,
   "id": "7c0df1b0",
   "metadata": {},
   "outputs": [],
   "source": [
    "flights_df['IS_Delayed'] = np.where(flights_df['MINUTES_DELAY']<= 0, '0', '1')\n",
    "flights_df.head(20)"
   ]
  },
  {
   "cell_type": "code",
   "execution_count": null,
   "id": "247b7938",
   "metadata": {},
   "outputs": [],
   "source": [
    "#drop columns SORRY MU COMPUTER SUCKS, ADD COLUMNS BACK IN \n",
    "flights_df = flights_df.drop([ 'MINUTES_DELAY', ], axis=1)\n",
    "flights_df"
   ]
  },
  {
   "cell_type": "code",
   "execution_count": null,
   "id": "c4589bdf",
   "metadata": {},
   "outputs": [],
   "source": [
    "#new_flights_df datatypes to make sure the minutes_delayed is int\n",
    "#new_flights_df.dtypes"
   ]
  },
  {
   "cell_type": "code",
   "execution_count": null,
   "id": "a0b4f78b",
   "metadata": {},
   "outputs": [],
   "source": [
    "#unque values\n",
    "#new_flights_df.nunique()"
   ]
  },
  {
   "cell_type": "markdown",
   "id": "77b40b85",
   "metadata": {},
   "source": [
    "## Get Dummies"
   ]
  },
  {
   "cell_type": "code",
   "execution_count": null,
   "id": "d4f7c1fb",
   "metadata": {},
   "outputs": [],
   "source": [
    "new_flights_encoded = pd.get_dummies(flights_df, columns=[\"AIRLINE\"])\n",
    "new_flights_encoded.head()"
   ]
  },
  {
   "cell_type": "code",
   "execution_count": null,
   "id": "a9efbcb5",
   "metadata": {},
   "outputs": [],
   "source": [
    "#OA_counts = flights_df.ORIGIN_AIRPORT.value_counts()\n",
    "#OA_counts.head(20)"
   ]
  },
  {
   "cell_type": "code",
   "execution_count": null,
   "id": "239d665c",
   "metadata": {},
   "outputs": [],
   "source": [
    "# Determine which values to replace if counts are less than ...?\n",
    "#replace_OA = list(OA_counts[OA_counts <16186].index)\n",
    "# Replace in dataframe\n",
    "#for app in replace_OA:\n",
    "#    flights_df.ORIGIN_AIRPORT = flights_df.ORIGIN_AIRPORT\n",
    "# Check to make sure binning was successful\n",
    "#flights_df.ORIGIN_AIRPORT.value_counts()"
   ]
  },
  {
   "cell_type": "code",
   "execution_count": null,
   "id": "20ee65eb",
   "metadata": {},
   "outputs": [],
   "source": [
    "#DA_counts = flights_df.DESTINATION_AIRPORT.value_counts()\n",
    "#DA_counts.head(20)"
   ]
  },
  {
   "cell_type": "code",
   "execution_count": null,
   "id": "f93236c5",
   "metadata": {},
   "outputs": [],
   "source": [
    "# Determine which values to replace if counts are less than ...?\n",
    "#replace_DA = list(DA_counts[DA_counts <16184].index)\n",
    "\n",
    "# Replace in dataframe\n",
    "#for app in replace_DA:\n",
    "#    flights_df.DESTINATION_AIRPORT = flights_df.DESTINATION_AIRPORT.replace(app,\"Other\")\n",
    "    \n",
    "# Check to make sure binning was successful\n",
    "#flights_df.DESTINATION_AIRPORT.value_counts().drop(\"Other\")\n"
   ]
  },
  {
   "cell_type": "code",
   "execution_count": null,
   "id": "9d2175b6",
   "metadata": {},
   "outputs": [],
   "source": [
    "# Generate our categorical variable lists\n",
    "#flight_cat = flights_df.dtypes[flights_df.dtypes == \"object\"].index.tolist()\n",
    "\n",
    "# Check the number of unique values in each column\n",
    "#flights_df[flight_cat].nunique()"
   ]
  },
  {
   "cell_type": "code",
   "execution_count": null,
   "id": "79f5b360",
   "metadata": {},
   "outputs": [],
   "source": [
    "#sample only 100K rows for machine learning\n",
    "flights_df = flights_df.sample(n = 200000)"
   ]
  },
  {
   "cell_type": "markdown",
   "id": "579427cb",
   "metadata": {},
   "source": [
    "\n",
    "## Functions to make data ready for machine learning"
   ]
  },
  {
   "cell_type": "code",
   "execution_count": null,
   "id": "9390b653",
   "metadata": {},
   "outputs": [],
   "source": [
    "# one Hot Encoder\n",
    "def onehot_encode(flights_df, column_dict):\n",
    "    flights_df = flights_df.copy()\n",
    "    for column, prefix in column_dict.items():\n",
    "        dummies = pd.get_dummies(flights_df[column], prefix=prefix)\n",
    "        flights_df = pd.concat([flights_df, dummies], axis=1)\n",
    "        flights_df = flights_df.drop(column, axis=1)\n",
    "        \n",
    "    return flights_df\n",
    "        \n",
    "  "
   ]
  },
  {
   "cell_type": "code",
   "execution_count": null,
   "id": "5ef587ee",
   "metadata": {},
   "outputs": [],
   "source": [
    "flights_df"
   ]
  },
  {
   "cell_type": "code",
   "execution_count": null,
   "id": "0853e61a",
   "metadata": {},
   "outputs": [],
   "source": [
    "#some functions to help \n",
    "#first were gonna make a copy of the flights_df\n",
    "\n",
    "def preprocessing_inputs(flights_df):\n",
    "    flights_df = flights_df.copy()\n",
    "    \n",
    "    #one-hot encoder nominal feature columns\n",
    "    flights_df = onehot_encode(\n",
    "        flights_df,\n",
    "        column_dict={\n",
    "            'AIRLINE': 'AL',\n",
    "            'ORIGIN_AIRPORT': 'OA',\n",
    "            'DESTINATION_AIRPORT': 'DA'\n",
    "        })\n",
    "    \n",
    "    #fill remaining missing values with columns means\n",
    "    #Makes everything numaric and fills in null values\n",
    "    remaining_na_columns = flights_df.loc[:, flights_df.isna().sum() > 0].columns\n",
    "    for column in remaining_na_columns:\n",
    "        flights_df[column] = flights_df[column].fillna(flights_df[column].mean())\n",
    "        \n",
    "    #training the data in X and y\n",
    "    #I CHANGED IT TO MINUTES_DELAYED, HE HAD IT AS THE 'CANCELLED' COLUMN WITH WE REMOVED\n",
    "    #Maybe thats why it wont show anything??\n",
    "\n",
    "    y = flights_df['IS_Delayed'].copy()\n",
    "    X = flights_df.drop('IS_Delayed', axis=1).copy()\n",
    "    \n",
    "    #Train-test split\n",
    "    X_train, X_test, y_train, y_test = train_test_split(X, y, train_size=0.6, random_state=123)\n",
    "    \n",
    "    #scaling the data with standard scaler\n",
    "    scaler = StandardScaler()\n",
    "    scaler.fit(X_train)\n",
    "    \n",
    "    X_train = pd.DataFrame(scaler.transform(X_train), columns=X.columns)\n",
    "    X_test = pd.DataFrame(scaler.transform(X_test), columns= X.columns)\n",
    "    \n",
    "    return X_train, X_test, y_train, y_test\n"
   ]
  },
  {
   "cell_type": "code",
   "execution_count": null,
   "id": "0534ca82",
   "metadata": {},
   "outputs": [],
   "source": [
    "def evaluate_model(model, X_test, y_test):\n",
    "    \n",
    "    model_acc = model.score(X_test, y_test)\n",
    "    print(\"Test Accuracy: {:.2f}%\".format(model_acc * 100))\n",
    "    \n",
    "    #confusion matrix\n",
    "    y_true = np.array(y_test)\n",
    "    y_pred = model.predict(X_test)\n",
    "    \n",
    "    cm = confusion_matrix(y_true, y_pred)\n",
    "    clr = classification_report(y_true, y_pred)\n",
    "    \n",
    "    plt.figure(figsize=(8,8))\n",
    "    sns.heatmap(cm, annot=True, vmin=0, fmt='g', cmap='Blues', cbar=False)\n",
    "    plt.xticks(np.arange(2) + 0.5, [\"ON TIME\", \"DELAYED\"])\n",
    "    plt.yticks(np.arange(2) + 0.5, [\"ON TIME\", \"DELAYED\"])\n",
    "    plt.xlabel(\"Predicted\")\n",
    "    plt.ylabel(\"Actual\")\n",
    "    plt.title(\"Confusion Matrix\")\n",
    "    plt.show()"
   ]
  },
  {
   "cell_type": "code",
   "execution_count": null,
   "id": "22e77159",
   "metadata": {},
   "outputs": [],
   "source": [
    "#checking dtypes again\n",
    "flights_df.dtypes"
   ]
  },
  {
   "cell_type": "code",
   "execution_count": null,
   "id": "f1be13fb",
   "metadata": {},
   "outputs": [],
   "source": [
    "X_train, X_test, y_train, y_pred = preprocessing_inputs(flights_df)"
   ]
  },
  {
   "cell_type": "code",
   "execution_count": null,
   "id": "369df4eb",
   "metadata": {},
   "outputs": [],
   "source": [
    "X_train"
   ]
  },
  {
   "cell_type": "code",
   "execution_count": null,
   "id": "230c74b3",
   "metadata": {},
   "outputs": [],
   "source": [
    "y_train.value_counts()"
   ]
  },
  {
   "cell_type": "markdown",
   "id": "069bcdec",
   "metadata": {},
   "source": [
    "## Logistical Regression and other Machine Learning"
   ]
  },
  {
   "cell_type": "code",
   "execution_count": null,
   "id": "ec04894b",
   "metadata": {},
   "outputs": [],
   "source": [
    "#APPARENTLLY THIS IS STILL TOO MUCH DATA IDK HOW TO FIX\n",
    "#UNLESS ITS MY COMPUTER\n",
    "model = LogisticRegression()\n",
    "model.fit(X_train, y_train)"
   ]
  },
  {
   "cell_type": "code",
   "execution_count": null,
   "id": "21d7781a",
   "metadata": {},
   "outputs": [],
   "source": [
    "evaluate_model(model, X_test, y_pred)"
   ]
  },
  {
   "cell_type": "code",
   "execution_count": null,
   "id": "aabc9fd6",
   "metadata": {},
   "outputs": [],
   "source": [
    "from sklearn.linear_model import LogisticRegression\n",
    "from sklearn.metrics import precision_score\n",
    "classifier = LogisticRegression(solver='lbfgs', max_iter=700, random_state=1242)\n",
    "classifier"
   ]
  },
  {
   "cell_type": "code",
   "execution_count": null,
   "id": "07d5f809",
   "metadata": {},
   "outputs": [],
   "source": [
    "LogisticRegression(C=1.0, class_weight=\"balanced\", dual=False, fit_intercept=True,\n",
    "   intercept_scaling=1, max_iter=500, multi_class='warn', penalty='12',\n",
    "   random_state=1234, solver='lbfgs', tol=0.0001, warm_start=False)"
   ]
  },
  {
   "cell_type": "code",
   "execution_count": null,
   "id": "7aee0ede",
   "metadata": {},
   "outputs": [],
   "source": [
    "classifier.fit(X_train, y_train)"
   ]
  },
  {
   "cell_type": "code",
   "execution_count": null,
   "id": "0334c1ad",
   "metadata": {},
   "outputs": [],
   "source": [
    "print(f\"Training Data Score: {classifier.score(X_train, y_train)}\")\n",
    "print(f\"Testing Data Score: {classifier.score(X_test, y_pred)}\")\n"
   ]
  },
  {
   "cell_type": "code",
   "execution_count": null,
   "id": "74159c38",
   "metadata": {},
   "outputs": [],
   "source": []
  },
  {
   "cell_type": "code",
   "execution_count": null,
   "id": "a4188d2d",
   "metadata": {},
   "outputs": [],
   "source": [
    "from sklearn.ensemble import RandomForestClassifier\n",
    "from sklearn.linear_model import LogisticRegression\n",
    "from sklearn.model_selection import train_test_split\n",
    "from sklearn.preprocessing import StandardScaler\n",
    "\n",
    "\n",
    "scaler = StandardScaler().fit(X_train)\n",
    "\n",
    "X_train_scaled = scaler.transform(X_train)\n",
    "X_test_scaled = scaler.transform(X_test)\n"
   ]
  },
  {
   "cell_type": "code",
   "execution_count": null,
   "id": "66a632de",
   "metadata": {},
   "outputs": [],
   "source": [
    "# Train the EasyEnsembleClassifier\n",
    "from imblearn.ensemble import EasyEnsembleClassifier \n",
    "eec = EasyEnsembleClassifier(random_state=1,n_estimators=100).fit(X_train_scaled, y_train)\n"
   ]
  },
  {
   "cell_type": "code",
   "execution_count": null,
   "id": "58202b0c",
   "metadata": {},
   "outputs": [],
   "source": [
    "\n",
    "from sklearn.metrics import balanced_accuracy_score\n",
    "y_pred = eec.predict(X_test_scaled)\n",
    "EE_Boost_bas = balanced_accuracy_score(y_test, y_pred)\n",
    "print(EE_Boost_bas)"
   ]
  }
 ],
 "metadata": {
  "kernelspec": {
   "display_name": "mlenv",
   "language": "python",
   "name": "mlenv"
  },
  "language_info": {
   "codemirror_mode": {
    "name": "ipython",
    "version": 3
   },
   "file_extension": ".py",
   "mimetype": "text/x-python",
   "name": "python",
   "nbconvert_exporter": "python",
   "pygments_lexer": "ipython3",
   "version": "3.7.10"
  }
 },
 "nbformat": 4,
 "nbformat_minor": 5
}
